{
 "cells": [
  {
   "cell_type": "markdown",
   "metadata": {},
   "source": [
    "# V8 执行流程概述\n",
    "\n",
    "下图仅展示 V8 引擎对 JS 的处理流程，不包括 JS 代码具体的执行过程。\n",
    "\n",
    "希望你通过这张图建立对 V8 的初步认识。\n",
    "\n",
    "<img src='https://raw.githubusercontent.com/binghuis/assets/main/excalidraw/v8.avif' width='580px' />\n",
    "\n",
    "JS 源码以 `UTF-16` 编码字符串的形式传给 V8 引擎。\n",
    "\n",
    "**词法分析阶段**\n",
    "\n",
    "V8 引擎扫描器扫描全量代码，进行词法分析，将源码分解成一系列标记（`token`）。\n",
    "\n",
    "`token` 的点击[这里](https://nbviewer.jupyter.org/github/binghuis/dive-into-javascript/blob/main/src/dive_into_javascript/notebooks/tokens.ipynb)查看\n",
    "\n",
    "**延迟解析**\n",
    "\n",
    "如果一段代码接下来不会被执行，那么这段代码仅被预解析，将来这段代码被执行时再解析，这就是「延迟解析」。\n",
    "\n",
    "预解析会进行简单的语法检查，并对变量和函数进行位置记录，这些记录信息后续会被用于语法分析。\n",
    "\n",
    "**语法分析阶段**\n",
    "\n",
    "针对将被执行的代码，解析器会根据词法分析阶段生成的标记进行语法分析，生成 AST 抽象语法树。\n",
    "此阶段代码结构确定，作用域也确定。\n",
    "\n",
    "**解释执行**\n",
    "\n",
    "语法分析阶段生成的 AST 抽象语法树被 JS 解释器编译成字节码并解释执行。\n",
    "\n",
    "**JIT 即时编译**\n",
    "\n",
    "如果一段代码被解释器执行多次则会被标记为热点代码，热点代码将会被 JS 编译器进一步优化编译成机器码并执行。这就是「JIT 即时编译技术」。\n",
    "\n",
    "如果这段被优化编译的代码结构发生了变化，那么编译器将会对这段代码反优化编译成字节码，并交回解释器执行。\n"
   ]
  }
 ],
 "metadata": {
  "language_info": {
   "name": "python"
  }
 },
 "nbformat": 4,
 "nbformat_minor": 2
}
