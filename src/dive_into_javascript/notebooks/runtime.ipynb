{
 "cells": [
  {
   "cell_type": "markdown",
   "metadata": {},
   "source": [
    "# JS 运行时 & 解释器\n",
    "\n",
    "JS 运行时（runtime）是指 JS 代码的执行环境。它包括了 JS 解释器以及一系列内置的接口和对象。这些内置的接口和对象可以让 JS 代码与它所在的环境进行交互。\n",
    "\n",
    "我们平时接触最多的 JS 运行时有两个：\n",
    "\n",
    "- 浏览器（Chrome、Firefox 等）运行时\n",
    "\n",
    "  JS 可以访问和操作浏览器提供的一系列全局对象，比如 `window`、`document` 等。这些对象代表了浏览器的各种能力，如操作 `DOM`（文档对象模型）和 `BOM`（浏览器对象模型）。\n",
    "\n",
    "- Node 运行时\n",
    "\n",
    "  在 Node 中，JS 可以访问操作系统的底层能力，如文件系统操作、网络通信等。这使得 JS 可以开发服务器端应用。\n",
    "\n",
    "> JS 是一种解释型语言：这意味着 JS 代码不是在运行前就被全部编译为机器码，而是在运行时由解释器逐行读取并执行。这也是为什么 JS 需要运行时环境，因为只有在运行时环境中，解释器才能找到执行 JS 代码所需要的所有资源。\n"
   ]
  },
  {
   "cell_type": "markdown",
   "metadata": {},
   "source": [
    "除了 Node，目前还有两个热度比较高的非浏览器环境的 JS 运行时：\n",
    "\n",
    "- [Deno runtime](https://docs.deno.com/runtime/manual)\n",
    "\n",
    "  Deno 是一个使用 rust 开发的基于 V8 引擎的 JS 运行时，它原生支持 TypeScript 和 WebAssembly。\n",
    "\n",
    "> 本项目就是基于 [Jupyter Kernel for Deno](https://docs.deno.com/runtime/manual/tools/jupyter) 实现在 Jupyter 里执行 TS 代码。\n",
    "\n",
    "- [Bun](https://bun.sh/)\n",
    "\n",
    "  Bun 是一个非常有野心的项目，官方对这个项目的定义是 all-in-one，包括开发、测试、打包、构建全流程。\n",
    "  而且官方宣传它的 server 性能比 Node 和 Deno 快得多。\n",
    "\n",
    "这两个工具目前我了解的不多，感兴趣的可以自己深入了解。\n"
   ]
  },
  {
   "cell_type": "markdown",
   "metadata": {},
   "source": [
    "## 预解析与 JIT\n",
    "\n",
    "**JS 是解释型语言，那变量提升是什么时候执行的？**\n",
    "\n",
    "许多人都知道 JS 是解释型语言，需要 JS 解释器在运行时逐行执行。但是我们也知道 JS 存在变量/函数提升等特性，它们显然不是在程序执行阶段能完成的，\n",
    "那它们是在什么时候执行的？\n",
    "\n",
    "现代 JS 引擎为了提高 JS 执行效率做了很多优化，因此现代 JS 解释器已经不仅仅只解释执行 JS 代码了，还包括了预解析和 JIT 编译等优化手段。\n",
    "\n",
    "**预解析**是代码执行前的一个阶段，在预解析阶段 JS 解释器做了这些事：\n",
    "\n",
    "- 创建作用域链：作用域链是一个由当前执行上下文和所有外层执行上下文的变量对象组成的链表结构，用于解析变量和函数的引用。在预解析阶段，JavaScript 解释器会创建当前执行上下文的作用域链和所有外层执行上下文的作用域链\n",
    "\n",
    "- 变量/函数提升：解释器扫描代码，并将变量和函数的声明提升到当前作用域的最顶部。这里的“提升”其实并不是真实发生的，这么说仅仅是便于大家理解，实际上\n",
    "  变量和函数还在原来的位置，但是提前为它们在内存中分配了空间，因此你可以在它们声明之前访问它们。此时变量没有值，为 `undefined`，而函数的整个函数体都被储存在内存中，因此函数可以被直接调用的。\n",
    "\n",
    "  注意只有声明会被提升，赋值或其他运行逻辑会留在原地。\n",
    "\n",
    "> 变量声明只有 `var` 声明会被提升，`let` 和 `const` 声明不会被提升。\n",
    "> 函数声明指的是 `function fn() {}`，`var fn = () => {}` 这个叫函数表达式，函数表达式规则参考变量声明。\n"
   ]
  },
  {
   "cell_type": "code",
   "execution_count": 1,
   "metadata": {},
   "outputs": [
    {
     "name": "stdout",
     "output_type": "stream",
     "text": [
      "undefined\n"
     ]
    }
   ],
   "source": [
    "// 变量 a 声明被提升\n",
    "\n",
    "// @ts-ignore\n",
    "console.log(a);\n",
    "\n",
    "var a = 2;\n"
   ]
  },
  {
   "cell_type": "code",
   "execution_count": 2,
   "metadata": {},
   "outputs": [
    {
     "name": "stdout",
     "output_type": "stream",
     "text": [
      "Hello World\n"
     ]
    }
   ],
   "source": [
    "// 函数 foo 声明被提升\n",
    "\n",
    "foo();\n",
    "\n",
    "function foo() {\n",
    "  console.log(\"Hello World\");\n",
    "}\n"
   ]
  },
  {
   "cell_type": "code",
   "execution_count": 3,
   "metadata": {},
   "outputs": [
    {
     "name": "stdout",
     "output_type": "stream",
     "text": [
      "b is not defined\n",
      "bar is not a function\n",
      "b is: undefined\n"
     ]
    }
   ],
   "source": [
    "// @ts-nocheck\n",
    "\n",
    "// 变量 b 是函数 bar 作用域内的变量，无法提升到作用域函数 bar 的外部\n",
    "\n",
    "try {\n",
    "  console.log(b);\n",
    "} catch ({ message }) {\n",
    "  console.log(message);\n",
    "}\n",
    "\n",
    "// 函数 bar 是通过函数表达式创建的，不会被提升\n",
    "try {\n",
    "  bar();\n",
    "} catch ({ message }) {\n",
    "  console.log(message);\n",
    "}\n",
    "\n",
    "var bar = () => {\n",
    "  console.log(\"b is:\", b);\n",
    "  var b = 2;\n",
    "};\n",
    "\n",
    "bar();\n"
   ]
  },
  {
   "cell_type": "code",
   "execution_count": 13,
   "metadata": {},
   "outputs": [
    {
     "name": "stdout",
     "output_type": "stream",
     "text": [
      "[Function: x]\n",
      "1\n"
     ]
    }
   ],
   "source": [
    "// @ts-nocheck\n",
    "\n",
    "console.log(x);\n",
    "\n",
    "function x() {}\n",
    "\n",
    "var x = 1;\n",
    "\n",
    "console.log(x);\n"
   ]
  },
  {
   "cell_type": "markdown",
   "metadata": {},
   "source": [
    "**JIT**\n",
    "\n",
    "[What exactly Just in time (JIT) compilation is in JavaScript?](https://medium.com/@aamchora/what-exactly-just-in-time-jit-compilation-is-in-javascript-f7aea482843f)\n"
   ]
  },
  {
   "cell_type": "code",
   "execution_count": 8,
   "metadata": {},
   "outputs": [
    {
     "name": "stdout",
     "output_type": "stream",
     "text": [
      "Window {}\n"
     ]
    }
   ],
   "source": []
  }
 ],
 "metadata": {
  "kernelspec": {
   "display_name": "Deno",
   "language": "typescript",
   "name": "deno"
  },
  "language_info": {
   "file_extension": ".ts",
   "mimetype": "text/x.typescript",
   "name": "typescript",
   "nb_converter": "script",
   "pygments_lexer": "typescript",
   "version": "5.3.3"
  }
 },
 "nbformat": 4,
 "nbformat_minor": 2
}
