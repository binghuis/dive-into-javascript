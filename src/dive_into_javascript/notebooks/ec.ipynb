{
 "cells": [
  {
   "cell_type": "markdown",
   "metadata": {},
   "source": [
    "# 执行上下文、调用栈与提升\n"
   ]
  },
  {
   "cell_type": "markdown",
   "metadata": {},
   "source": [
    "[ES6 规范中的词法环境与闭包、作用域的关系](./lexical_env.ipynb) 里经常说词法环境是在代码执行时创建的。\n",
    "\n",
    "但是代码「执行时」到底是什么时候？\n",
    "\n",
    "接下来我们将拆解代码执行过程，进一步了解代码执行细节。\n",
    "\n",
    "JS 代码的执行实际上分为两个阶段：创建阶段和执行阶段。\n",
    "\n",
    "回顾下 [简述 V8 引擎对 JS 代码的处理流程](./src/dive_into_javascript/notebooks/v8_pipeline.ipynb)。\n",
    "\n",
    "JS 代码如果在加载之后就被执行，那么代码会被解析成完整的 AST 抽象语法树并由 V8 解释器转化成字节码执行，否则代码仅被预解析，预解析仅生成简化的 AST。\n",
    "\n",
    "因此如果一段代码没有被解析过，需要在创建阶段之前先对代码进行真正的解析。\n",
    "\n",
    "### 创建阶段\n",
    "\n",
    "在创建阶段，V8 还会创建一个执行上下文作为代码的执行环境。\n",
    "\n",
    "执行上下文有两个重要的状态组件：\n",
    "\n",
    "- 变量环境（Variable Environment）\n",
    "- 词法环境（Lexical Environment）\n",
    "\n",
    "注意，执行上下文中的词法环境和 ES6 规范中的词法环境不是一回事。\n",
    "\n",
    "ES6 规范中的词法环境（Lexical Environment）在 [ES6 规范中的词法环境与闭包、作用域的关系](./lexical_env.ipynb) 里已经介绍过了，\n",
    "它是一个包含环境记录和对外词法环境引用的结构，是结构。\n",
    "\n",
    "而执行上下文中的词法环境（LexicalEnvironment）和变量环境是词法环境（Lexical Environment）结构的状态组件，是组件，并且是词法环境结构的组件。\n",
    "\n",
    "也就是说词法环境结构是通过执行上下文的词法环境组件和变量环境组件实现的。\n",
    "\n",
    "_词法环境（Lexical Environment）和词法环境（LexicalEnvironment）这两个英文单词，一个有空格，一个没有，有空格的是结构，没空格的是组件_\n",
    "\n",
    "`var` 变量、函数参数和函数声明被添加到变量环境组件的环境记录。\n",
    "\n",
    "`var` 变量被初始化值为 `undefined`，整个函数被完整的记录。\n",
    "\n",
    "[What is the temporal dead zone?](https://stackoverflow.com/questions/33198849/what-is-the-temporal-dead-zone)\n",
    "\n",
    "[[AskJS] how is hoisting significant in javascript?](https://www.reddit.com/r/javascript/comments/u5yf8m/askjs_how_is_hoisting_significant_in_javascript/)\n",
    "\n",
    "[How is block scope managed in the lexical environment?](https://stackoverflow.com/questions/29410249/how-is-block-scope-managed-in-the-lexical-environment)\n",
    "\n",
    "`const` 变量和 `let` 变量被添加到词法环境组件的环境记录，未被初始化。\n",
    "\n",
    "在变量被赋值之前是不能被访问的，这就是「暂时性死区」。\n"
   ]
  },
  {
   "cell_type": "markdown",
   "metadata": {},
   "source": [
    "### 调用栈和堆\n"
   ]
  },
  {
   "cell_type": "markdown",
   "metadata": {},
   "source": [
    "执行上下文被创建之后会被压入调用栈，调用栈是跟踪代码执行流程的数据结构，当代码开始执行的时候会首先创建全局执行上下文并入栈，\n",
    "执行到函数的时候会创建函数执行上下文并入栈，调用栈只执行栈顶的执行上下文代码，栈顶函数执行完就出栈，继续执行调用栈的栈顶函数。\n",
    "\n",
    "在执行上下文里，基本类型的变量值存在环境记录里，引用类型和函数的值存在堆内存里，环境记录里存的是堆的内存地址。\n",
    "\n",
    "JS 是同步编程语言，却能实现异步执行。主要是通过事件循环实现的。\n"
   ]
  },
  {
   "cell_type": "markdown",
   "metadata": {},
   "source": [
    "### 作用域、词法环境、执行上下文三者关系\n"
   ]
  }
 ],
 "metadata": {
  "kernelspec": {
   "display_name": "Deno",
   "language": "typescript",
   "name": "deno"
  },
  "language_info": {
   "file_extension": ".ts",
   "mimetype": "text/x.typescript",
   "name": "typescript",
   "nb_converter": "script",
   "pygments_lexer": "typescript",
   "version": "5.3.3"
  }
 },
 "nbformat": 4,
 "nbformat_minor": 4
}
