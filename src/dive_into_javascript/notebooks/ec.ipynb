{
 "cells": [
  {
   "cell_type": "markdown",
   "metadata": {},
   "source": [
    "# 执行上下文、调用栈与提升\n"
   ]
  },
  {
   "cell_type": "markdown",
   "metadata": {},
   "source": [
    "[ES6 规范中的词法环境与闭包、作用域的关系](./lexical_env.ipynb) 里总会提到词法环境是在代码执行时创建的。\n",
    "\n",
    "但是代码「执行时」到底是什么时？\n",
    "\n",
    "接下来我们将拆解代码执行过程，详细的了解代码执行细节。\n",
    "\n",
    "JS 代码的执行实际上分为两个阶段：创建阶段和执行阶段。\n",
    "\n",
    "### 创建阶段\n",
    "\n",
    "回顾下 [简述 V8 引擎对 JS 代码的处理流程](./src/dive_into_javascript/notebooks/v8_pipeline.ipynb)。\n",
    "\n",
    "JS 代码如果在加载之后就会被执行，那么代码将会被解析成 AST 抽象语法树并由 V8 解释器转化成字节码执行，否则代码仅被预解析，并不生成 AST。\n",
    "\n",
    "因此在代码执行的创建阶段如果这段代码没有被解析过，需要首先对代码进行真正的解析。\n",
    "\n",
    "在创建阶段，V8 还会创建一个执行上下文作为代码的执行环境。\n",
    "\n",
    "执行上下文有两个重要的状态组件：\n",
    "\n",
    "- 变量环境（Variable Environment）\n",
    "- 词法环境（Lexical Environment）\n",
    "\n",
    "注意，执行上下文中的词法环境和 ES6 规范中的词法环境不是一回事。\n",
    "\n",
    "ES6 规范中的词法环境（Lexical Environment）在 [ES6 规范中的词法环境与闭包、作用域的关系](./lexical_env.ipynb) 里已经介绍过了，\n",
    "它是一个包含环境记录和对外词法环境引用的结构，是结构。\n",
    "\n",
    "而执行上下文中的词法环境（LexicalEnvironment）和变量环境是词法环境（Lexical Environment）结构的状态组件，是组件，并且是词法环境结构的。\n",
    "\n",
    "_词法环境（Lexical Environment）和词法环境（LexicalEnvironment）这两个英文单词，一个有空格，一个没有，有空格的是结构，没空格的是组件_\n",
    "\n",
    "全局代码和函数执行的创建阶段会创建对应的（全局/函数）执行上下文。\n",
    "\n",
    "在执行上下文初始化阶段会创建变量环境和词法环境组件。\n",
    "\n",
    "#### 变量环境组件\n",
    "\n",
    "`var` 变量和函数声明被添加到变量环境的环境记录，此时它们都被分配了内存空间，var 变量初始化值为 undefined。\n",
    "由于在创建阶段 var 和函数就已完成了初始化，因此在它们声明之前就能被访问，这就是「提升」。\n",
    "\n",
    "#### 词法环境组件\n",
    "\n",
    "- 变量环境组件：存储 `var` 变量和函数声明。\n",
    "- 词法环境组件：存储 `let` 和 `const` 变量。\n",
    "\n",
    "此时词法环境指向变量环境，它们的环境记录和对外部词法环境的引用都相同。\n",
    "\n",
    "在代码真正的执行阶段，当遇到 `let`、`const` 声明的变量时，这些变量会被添加到词法环境的环境记录，此时变量被分配内存，但未被初始化，在变量被赋值之前是不能被访问的，这就是「暂时性死区」。\n"
   ]
  },
  {
   "cell_type": "markdown",
   "metadata": {},
   "source": [
    "块级作用域\n"
   ]
  },
  {
   "cell_type": "markdown",
   "metadata": {},
   "source": [
    "### 调用栈和堆\n"
   ]
  },
  {
   "cell_type": "markdown",
   "metadata": {},
   "source": [
    "执行上下文被创建之后会被压入调用栈，调用栈是跟踪代码执行流程的数据结构，当代码开始执行的时候会首先创建全局执行上下文并入栈，\n",
    "执行到函数的时候会创建函数执行上下文并入栈，调用栈只执行栈顶的执行上下文代码，栈顶函数执行完就出栈，继续执行调用栈的栈顶函数。\n",
    "\n",
    "在执行上下文里，基本类型的变量值存在环境记录里，引用类型和函数的值存在堆内存里，环境记录里存的是堆的内存地址。\n",
    "\n",
    "JS 是同步编程语言，却能实现异步执行。主要是通过事件循环实现的。\n"
   ]
  }
 ],
 "metadata": {
  "kernelspec": {
   "display_name": "Deno",
   "language": "typescript",
   "name": "deno"
  },
  "language_info": {
   "file_extension": ".ts",
   "mimetype": "text/x.typescript",
   "name": "typescript",
   "nb_converter": "script",
   "pygments_lexer": "typescript",
   "version": "5.3.3"
  }
 },
 "nbformat": 4,
 "nbformat_minor": 4
}
