{
 "cells": [
  {
   "cell_type": "markdown",
   "metadata": {},
   "source": [
    "# 变量 & 声明提升\n"
   ]
  },
  {
   "cell_type": "code",
   "execution_count": 1,
   "metadata": {},
   "outputs": [
    {
     "name": "stdout",
     "output_type": "stream",
     "text": [
      "undefined\n",
      "1\n",
      "2\n"
     ]
    }
   ],
   "source": [
    "// @ts-nocheck\n",
    "\n",
    "// var 作用范围为函数作用域\n",
    "// var 会变量提升，即变量可以在声明之前使用，在 var 声明的变量赋值语句执行之前，该变量的值为 undefined\n",
    "// var 是过时的变量声明方式，不推荐使用\n",
    "console.log(a);\n",
    "\n",
    "var a = 1;\n",
    "\n",
    "// 变量 a 已完成赋值，此时不为 undefined\n",
    "console.log(a);\n",
    "\n",
    "if (true) {\n",
    "  var b = 2;\n",
    "}\n",
    "\n",
    "// 变量 b 作用范围为函数作用域，在块级作用域中声明的变量会提升到函数作用域中\n",
    "// 因此在 if 语句块外部也可以访问到变量 b\n",
    "console.log(b);\n"
   ]
  },
  {
   "cell_type": "code",
   "execution_count": 2,
   "metadata": {},
   "outputs": [
    {
     "name": "stdout",
     "output_type": "stream",
     "text": [
      "1\n"
     ]
    }
   ],
   "source": [
    "// @ts-nocheck\n",
    "\n",
    "// 声明 let 和 const 作用范围为声明所在的块级作用域\n",
    "// 不存在变量提升，即变量不可以在声明之前使用\n",
    "let c = 1;\n",
    "\n",
    "console.log(c);\n",
    "\n",
    "// 变量 b 在条件语句块中声明，作用范围为条件语句块，在条件语句块外部不可以访问到变量 b\n",
    "if (true) {\n",
    "  let d = 2;\n",
    "}\n",
    "\n",
    "// const 语句用来声明常量\n",
    "// 如果是硬编码常量使用大写字母和下划线命名，否则和变量一样使用驼峰命名法\n",
    "const COLOR_RED = \"#F00\";\n"
   ]
  },
  {
   "cell_type": "markdown",
   "metadata": {},
   "source": [
    "> 硬编码（Hardcoding）指的是在程序中直接使用固定的数值、字符串或其他常量值，而不是通过变量或参数来获取这些值。\n"
   ]
  },
  {
   "cell_type": "code",
   "execution_count": 3,
   "metadata": {},
   "outputs": [
    {
     "name": "stdout",
     "output_type": "stream",
     "text": [
      "[Function: foo]\n",
      "1\n",
      "undefined\n"
     ]
    }
   ],
   "source": [
    "// 函数声明也存在变量提升，且优先级高于变量声明\n",
    "// @ts-nocheck\n",
    "console.log(foo);\n",
    "\n",
    "function foo() {}\n",
    "\n",
    "var foo = 1;\n",
    "\n",
    "console.log(foo);\n",
    "\n",
    "// 但函数表达式不存在变量提升\n",
    "console.log(bar);\n",
    "\n",
    "var bar = () => {};\n"
   ]
  },
  {
   "cell_type": "code",
   "execution_count": null,
   "metadata": {},
   "outputs": [],
   "source": []
  }
 ],
 "metadata": {
  "kernelspec": {
   "display_name": "Deno",
   "language": "typescript",
   "name": "deno"
  },
  "language_info": {
   "file_extension": ".ts",
   "mimetype": "text/x.typescript",
   "name": "typescript",
   "nb_converter": "script",
   "pygments_lexer": "typescript",
   "version": "5.3.3"
  }
 },
 "nbformat": 4,
 "nbformat_minor": 2
}
