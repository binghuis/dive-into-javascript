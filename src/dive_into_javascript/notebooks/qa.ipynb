{
 "cells": [
  {
   "cell_type": "markdown",
   "metadata": {},
   "source": [
    "全局执行上下文是解析阶段创建的还是解析阶段之前创建的？\n",
    "\n",
    "函数执行上下文是解析阶段创建的还是解析阶段之前创建的？\n",
    "\n",
    "创建执行上下文的过程中都做了什么？\n"
   ]
  }
 ],
 "metadata": {
  "language_info": {
   "name": "python"
  }
 },
 "nbformat": 4,
 "nbformat_minor": 2
}
