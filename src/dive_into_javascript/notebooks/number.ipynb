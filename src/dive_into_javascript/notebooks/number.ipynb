{
 "cells": [
  {
   "cell_type": "markdown",
   "id": "a801c3df",
   "metadata": {},
   "source": [
    "# 数字\n",
    "\n",
    "JS 有两种数据类型：浮点数类型 `number` 和整数类型 `bigint`。\n"
   ]
  },
  {
   "cell_type": "markdown",
   "id": "59aa3750",
   "metadata": {},
   "source": [
    "## `number`\n"
   ]
  },
  {
   "cell_type": "markdown",
   "id": "f5625db4",
   "metadata": {},
   "source": [
    "### 浮点数创建\n"
   ]
  },
  {
   "cell_type": "markdown",
   "id": "c7dd99dc",
   "metadata": {},
   "source": [
    "**使用字面值形式**\n"
   ]
  },
  {
   "cell_type": "code",
   "execution_count": 57,
   "id": "268045f7",
   "metadata": {},
   "outputs": [
    {
     "data": {
      "text/plain": [
       "\u001b[32m\"number\"\u001b[39m"
      ]
     },
     "execution_count": 57,
     "metadata": {},
     "output_type": "execute_result"
    }
   ],
   "source": [
    "const x = 1;\n",
    "typeof x;\n"
   ]
  },
  {
   "cell_type": "markdown",
   "id": "bd5d852f",
   "metadata": {},
   "source": [
    "**使用 `Number` 方法**\n"
   ]
  },
  {
   "cell_type": "code",
   "execution_count": 58,
   "id": "662f3066",
   "metadata": {},
   "outputs": [
    {
     "data": {
      "text/plain": [
       "\u001b[33m[Number: 0]\u001b[39m"
      ]
     },
     "execution_count": 58,
     "metadata": {},
     "output_type": "execute_result"
    }
   ],
   "source": [
    "new Number();\n"
   ]
  },
  {
   "cell_type": "code",
   "execution_count": 59,
   "id": "c17638ab",
   "metadata": {},
   "outputs": [
    {
     "data": {
      "text/plain": [
       "\u001b[33mtrue\u001b[39m"
      ]
     },
     "execution_count": 59,
     "metadata": {},
     "output_type": "execute_result"
    }
   ],
   "source": [
    "// 通过 valueOf 获取数字对象原始值\n",
    "\n",
    "new Number().valueOf() === 0;\n"
   ]
  },
  {
   "cell_type": "markdown",
   "id": "e1587866",
   "metadata": {},
   "source": [
    "`Number` 作为转换函数，根据其他类型创建数字。\n"
   ]
  },
  {
   "cell_type": "markdown",
   "id": "86b8f681",
   "metadata": {},
   "source": [
    "## `bigint`\n"
   ]
  },
  {
   "cell_type": "markdown",
   "id": "9243c1e7",
   "metadata": {},
   "source": [
    "### 整数创建\n"
   ]
  },
  {
   "cell_type": "markdown",
   "id": "4581ddc7",
   "metadata": {},
   "source": [
    "**使用字面值形式**\n"
   ]
  },
  {
   "cell_type": "code",
   "execution_count": 60,
   "id": "b283bfc7",
   "metadata": {},
   "outputs": [
    {
     "data": {
      "text/plain": [
       "\u001b[32m\"bigint\"\u001b[39m"
      ]
     },
     "execution_count": 60,
     "metadata": {},
     "output_type": "execute_result"
    }
   ],
   "source": [
    "const y = 1n;\n",
    "typeof y;\n"
   ]
  }
 ],
 "metadata": {
  "kernelspec": {
   "display_name": "Deno",
   "language": "typescript",
   "name": "deno"
  },
  "language_info": {
   "file_extension": ".ts",
   "mimetype": "text/x.typescript",
   "name": "typescript",
   "nb_converter": "script",
   "pygments_lexer": "typescript",
   "version": "5.2.2"
  }
 },
 "nbformat": 4,
 "nbformat_minor": 5
}
