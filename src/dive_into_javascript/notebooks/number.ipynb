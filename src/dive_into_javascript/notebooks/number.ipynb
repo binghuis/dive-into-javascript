{
 "cells": [
  {
   "cell_type": "code",
   "execution_count": 1,
   "id": "9aad63be-7ee0-47d6-b784-42be57deef23",
   "metadata": {},
   "outputs": [
    {
     "name": "stdout",
     "output_type": "stream",
     "text": [
      "1\n"
     ]
    }
   ],
   "source": [
    "console.log(1);\n"
   ]
  },
  {
   "cell_type": "markdown",
   "id": "388d17f2-6cba-40d9-aeb7-8918408b50e6",
   "metadata": {},
   "source": [
    "> ”一个看上去是整数的东西，其实都是浮点数“ -- mdn web docs\n",
    "\n",
    "上面这句话出自 mdn 上的 Number 章节，指的是在 TS 中，我们平时写的数字尽管有的看起来是整型，其实也都是浮点型，\n",
    "因为在 TS 中，number 类型就是浮点型，如下：\n",
    "\n",
    "```ts\n",
    "// a 和 b 都是浮点型，尽管 a 看起来好像是个整型\n",
    "const a: number = 1;\n",
    "const b: number = 1.1;\n",
    "```\n",
    "\n",
    "不过，在 TS 中数值类型是有整型的，那就是在 ES 2020 新加入的类型 bigint\n",
    "\n",
    "```ts\n",
    "// 在整数后面加个 n，就是声明 bigint 了，c 就是整数类型\n",
    "const c = 1n;\n",
    "console.log(typeof c); // bigint\n",
    "```\n",
    "\n",
    "总结：\n",
    "\n",
    "- number：双精度 64 位浮点型\n",
    "- bigint：长整型\n"
   ]
  }
 ],
 "metadata": {
  "kernelspec": {
   "display_name": "Deno",
   "language": "typescript",
   "name": "deno"
  },
  "language_info": {
   "file_extension": ".ts",
   "mimetype": "text/x.typescript",
   "name": "typescript",
   "nb_converter": "script",
   "pygments_lexer": "typescript",
   "version": "5.2.2"
  }
 },
 "nbformat": 4,
 "nbformat_minor": 5
}
