{
 "cells": [
  {
   "cell_type": "markdown",
   "metadata": {},
   "source": [
    "**执行上下文**是代码的执行环境，它提供了代码执行所需的所有信息。当 JS 引擎开始执行 JS 代码的时候会创建一个全局执行上下文，\n",
    "并将其压入执行栈，当函数被调用的时候，JS 引擎会创建一个新的函数执行上下文，同样将其压入执行栈，当函数执行完，它的执行栈会被弹出。\n",
    "\n",
    "执行上下文分为：全局执行上下文和函数执行上下文，全局执行上下文是 JS 程序开始执行的时候创建的，而函数执行上下文顾名思义就是在\n",
    "函数被调用的时候创建的。执行上下文\n",
    "\n",
    "JavaScript 引擎只能在一个执行上下文中运行。当函数被调用时，一个新的执行上下文被创建，包含了函数调用的信息。这个执行上下文被推入一个叫做执行栈的数据结构。当函数执行完毕，它的执行上下文就会从执行栈中弹出，控制权返回到调用它的执行上下文。\n",
    "\n",
    "词法环境\n",
    "this 值：在非严格模式下，全局执行上下文的 this 值是全局对象（在浏览器中是 window），但在函数执行上下文中，this 值取决于函数是如何被调用的。\n",
    "\n",
    "词法环境是在编译阶段生成的，它基于代码在书写时的物理位置来决定变量和函数的可访问性，这种在编译阶段确定的可访问性被称为静态作用域或词法作用域。\n",
    "\n",
    "一个函数的词法环境和它被定义的地方有关，而不是它被执行的地方。这就意味着如果一个函数在它的内部定义了另一个函数，那么内部函数将有一个对外部函数词法环境的引用，这就形成了一个作用域链，这个链表使得函数可以访问到外部的变量。\n",
    "\n",
    "环境记录（Environment Record）：一个记录当前执行上下文中所有的变量和函数声明的地方。\n",
    "对外部环境的引用（Outer Reference）：这个引用指向了包围这个执行上下文的词法环境。\n",
    "\n",
    "变量环境\n",
    "\n",
    "创建阶段\n",
    "\n",
    "- 预编译\n",
    "\n",
    "执行阶段\n",
    "\n",
    "- 编译\n",
    "- 执行\n",
    "\n",
    "作用域\n",
    "作用域链\n",
    "\n",
    "变量对象\n",
    "活动对象\n"
   ]
  },
  {
   "cell_type": "markdown",
   "metadata": {},
   "source": [
    "参考：\n",
    "\n",
    "ChatGPT-4\n",
    "\n",
    "[JAVASCRIPT.INFO: 变量作用域，闭包](https://zh.javascript.info/closure)\n",
    "\n",
    "[Lexical Environment in JavaScript: A Deep Dive](https://www.frontendmag.com/tutorials/lexical-environment-in-javascript/)\n",
    "\n",
    "[你不知道的 JavaScript（上卷）](https://github.com/getify/You-Dont-Know-JS/blob/2nd-ed/scope-closures/ch1.md)\n",
    "\n",
    "[Draft ECMA-262 / December 6, 2023](https://tc39.es/ecma262/#sec-executable-code-and-execution-contexts)\n",
    "\n",
    "[Understanding Execution Context and Execution Stack in Javascript](https://blog.bitsrc.io/understanding-execution-context-and-execution-stack-in-javascript-1c9ea8642dd0)\n"
   ]
  },
  {
   "cell_type": "markdown",
   "metadata": {},
   "source": [
    "我们知道 JS 是解释型语言，编译型语言是先把代码编译成机器码再执行，而解释型语言代码是通过语言解释器逐行解释执行，\n",
    "解释型语言并不是没有编译过程，实际上现代 JS 代码在执行之前是有短暂的编译阶段的。\n",
    "\n",
    "JS 引擎在执行 JS 代码的时候会创建一个\n"
   ]
  },
  {
   "cell_type": "markdown",
   "metadata": {},
   "source": [
    "我们说 JS 是单线程语言，这句话的意思是 JS 只有一个调用栈（call stack），JS 引擎每次只能在一个执行上下文中执行。\n",
    "\n",
    "调用栈是一个记录当前程序所在位置的数据结构，如果程序进入了一个函数，就把这个函数压入调用栈，当离开这个函数就把它从调用栈弹出。\n"
   ]
  }
 ],
 "metadata": {
  "kernelspec": {
   "display_name": "Deno",
   "language": "typescript",
   "name": "deno"
  },
  "language_info": {
   "file_extension": ".ts",
   "mimetype": "text/x.typescript",
   "name": "typescript",
   "nb_converter": "script",
   "pygments_lexer": "typescript",
   "version": "5.3.3"
  }
 },
 "nbformat": 4,
 "nbformat_minor": 2
}
