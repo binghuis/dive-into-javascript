{
 "cells": [
  {
   "cell_type": "code",
   "execution_count": 1,
   "metadata": {},
   "outputs": [],
   "source": [
    "const list = [\"a\", \"b\", \"c\", \"d\", \"e\", \"f\"];\n"
   ]
  },
  {
   "cell_type": "code",
   "execution_count": 2,
   "metadata": {},
   "outputs": [
    {
     "name": "stdout",
     "output_type": "stream",
     "text": [
      "a\n",
      "b\n",
      "d\n"
     ]
    }
   ],
   "source": [
    "for (let index = 0; index < list.length; index++) {\n",
    "  const item = list[index];\n",
    "  if (item === \"c\") {\n",
    "    // 跳出本轮循环\n",
    "    continue;\n",
    "  }\n",
    "  if (item === \"e\") {\n",
    "    // 跳出整个循环\n",
    "    break;\n",
    "  }\n",
    "  console.log(item);\n",
    "}\n"
   ]
  },
  {
   "cell_type": "code",
   "execution_count": 3,
   "metadata": {},
   "outputs": [
    {
     "name": "stdout",
     "output_type": "stream",
     "text": [
      "a\n",
      "b\n",
      "d\n"
     ]
    }
   ],
   "source": [
    "for (const item of list) {\n",
    "  if (item === \"c\") {\n",
    "    continue;\n",
    "  }\n",
    "  if (item === \"e\") {\n",
    "    break;\n",
    "  }\n",
    "  console.log(item);\n",
    "}\n"
   ]
  },
  {
   "cell_type": "code",
   "execution_count": 8,
   "metadata": {},
   "outputs": [
    {
     "name": "stdout",
     "output_type": "stream",
     "text": [
      "a\n",
      "b\n",
      "c\n",
      "d\n",
      "e\n",
      "f\n"
     ]
    }
   ],
   "source": [
    "for (const key in list) {\n",
    "  if (list[key] === \"c\") {\n",
    "    continue;\n",
    "  }\n",
    "  if (list[key] === \"e\") {\n",
    "    break;\n",
    "  }\n",
    "\n",
    "  console.log(list[key]);\n",
    "}\n"
   ]
  },
  {
   "cell_type": "code",
   "execution_count": 5,
   "metadata": {},
   "outputs": [
    {
     "name": "stdout",
     "output_type": "stream",
     "text": [
      "a\n",
      "b\n",
      "d\n"
     ]
    }
   ],
   "source": [
    "let i = 0;\n",
    "while (i < list.length) {\n",
    "  const item = list[i];\n",
    "  if (item === \"c\") {\n",
    "    i++;\n",
    "    continue;\n",
    "  }\n",
    "  if (item === \"e\") {\n",
    "    break;\n",
    "  }\n",
    "  console.log(item);\n",
    "  i++;\n",
    "}\n"
   ]
  },
  {
   "cell_type": "code",
   "execution_count": 6,
   "metadata": {},
   "outputs": [
    {
     "name": "stdout",
     "output_type": "stream",
     "text": [
      "a\n",
      "b\n",
      "d\n"
     ]
    }
   ],
   "source": [
    "let j = 0;\n",
    "do {\n",
    "  const item = list[j];\n",
    "  if (item === \"c\") {\n",
    "    j++;\n",
    "    continue;\n",
    "  }\n",
    "  if (item === \"e\") {\n",
    "    break;\n",
    "  }\n",
    "  console.log(item);\n",
    "  j++;\n",
    "} while (j < list.length);\n"
   ]
  },
  {
   "cell_type": "code",
   "execution_count": 7,
   "metadata": {},
   "outputs": [
    {
     "name": "stdout",
     "output_type": "stream",
     "text": [
      "a\n",
      "b\n",
      "d\n",
      "f\n"
     ]
    }
   ],
   "source": [
    "// forEach 不能被 break\n",
    "list.forEach((item) => {\n",
    "  if (item === \"c\") {\n",
    "    return;\n",
    "  }\n",
    "  if (item === \"e\") {\n",
    "    return;\n",
    "  }\n",
    "  console.log(item);\n",
    "});\n"
   ]
  }
 ],
 "metadata": {
  "kernelspec": {
   "display_name": "Deno",
   "language": "typescript",
   "name": "deno"
  },
  "language_info": {
   "file_extension": ".ts",
   "mimetype": "text/x.typescript",
   "name": "typescript",
   "nb_converter": "script",
   "pygments_lexer": "typescript",
   "version": "5.3.3"
  }
 },
 "nbformat": 4,
 "nbformat_minor": 2
}
