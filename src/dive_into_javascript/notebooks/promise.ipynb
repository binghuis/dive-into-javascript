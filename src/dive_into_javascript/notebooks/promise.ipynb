{
 "cells": [
  {
   "cell_type": "markdown",
   "metadata": {},
   "source": [
    "# Promise\n"
   ]
  },
  {
   "cell_type": "code",
   "execution_count": 69,
   "metadata": {},
   "outputs": [
    {
     "name": "stdout",
     "output_type": "stream",
     "text": [
      "1\n",
      "hello lagou\n",
      "2 undefined\n"
     ]
    }
   ],
   "source": [
    "const promise = new Promise((resolve, reject) => {\n",
    "  setTimeout(() => {\n",
    "    resolve(\"hello\");\n",
    "  }, 1000);\n",
    "})\n",
    "  .then((res) => {\n",
    "    console.log(1);\n",
    "\n",
    "    return new Promise((resolve, reject) => {\n",
    "      setTimeout(() => {\n",
    "        resolve(res + \" lagou\");\n",
    "      }, 1000);\n",
    "    }).then(console.log);\n",
    "  })\n",
    "  .then((res) => {\n",
    "    console.log(2, res);\n",
    "  });\n"
   ]
  }
 ],
 "metadata": {
  "kernelspec": {
   "display_name": "Deno",
   "language": "typescript",
   "name": "deno"
  },
  "language_info": {
   "file_extension": ".ts",
   "mimetype": "text/x.typescript",
   "name": "typescript",
   "nb_converter": "script",
   "pygments_lexer": "typescript",
   "version": "5.3.3"
  }
 },
 "nbformat": 4,
 "nbformat_minor": 2
}
