{
 "cells": [
  {
   "cell_type": "markdown",
   "metadata": {},
   "source": [
    "# Promise\n"
   ]
  },
  {
   "cell_type": "code",
   "execution_count": 2,
   "metadata": {},
   "outputs": [
    {
     "data": {
      "text/plain": [
       "{ value: \u001b[33m1\u001b[39m, done: \u001b[33mfalse\u001b[39m }"
      ]
     },
     "execution_count": 2,
     "metadata": {},
     "output_type": "execute_result"
    }
   ],
   "source": [
    "function* makeRangeIterator(start = 0, end = Infinity, step = 1) {\n",
    "  let iterationCount = 0;\n",
    "  for (let i = start; i < end; i += step) {\n",
    "    iterationCount++;\n",
    "    yield i;\n",
    "  }\n",
    "  return iterationCount;\n",
    "}\n",
    "\n",
    "const iter = makeRangeIterator(1, 10, 2);\n",
    "iter.next(); // { value: 1, done: false }\n"
   ]
  }
 ],
 "metadata": {
  "kernelspec": {
   "display_name": "Deno",
   "language": "typescript",
   "name": "deno"
  },
  "language_info": {
   "file_extension": ".ts",
   "mimetype": "text/x.typescript",
   "name": "typescript",
   "nb_converter": "script",
   "pygments_lexer": "typescript",
   "version": "5.3.3"
  }
 },
 "nbformat": 4,
 "nbformat_minor": 2
}
