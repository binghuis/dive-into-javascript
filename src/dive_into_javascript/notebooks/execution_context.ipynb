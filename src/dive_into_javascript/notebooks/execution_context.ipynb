{
 "cells": [
  {
   "cell_type": "code",
   "execution_count": null,
   "metadata": {},
   "outputs": [],
   "source": []
  },
  {
   "cell_type": "markdown",
   "metadata": {},
   "source": [
    "## 执行上下文\n",
    "\n",
    "JS 执行上下文是 JS 代码的执行环境。\n",
    "\n",
    "执行上下文组件：\n",
    "\n",
    "- 词法环境组件：LexicalEnvironment\n",
    "- 变量环境组件：VariableEnvironment\n",
    "\n",
    "### 词法环境与作用域链\n",
    "\n",
    "词法环境（Lexical Environments）包含：\n",
    "\n",
    "- 环境记录\n",
    "- 对外部词法环境的可能为空的引用\n",
    "\n",
    "三种词法环境：\n",
    "\n",
    "全局环境：外部词法环境的引用为 null。\n",
    "模块环境：外部词法环境的引用为全局环境。\n",
    "函数环境：外部词法环境的引用为函数声明所在的词法环境。\n",
    "\n",
    "环境记录\n",
    "\n",
    "- 声明性环境记录（declarative Environment Records）\n",
    "  - 模块环境记录（module Environment Records）\n",
    "  - 函数环境记录（Function Environment Records）\n",
    "- 对象环境记录（object Environment Records）\n",
    "- 全局环境记录（global Environment Record）：声明性环境记录和对象环境记录的复合体\n"
   ]
  },
  {
   "cell_type": "markdown",
   "metadata": {},
   "source": [
    "参考：\n",
    "\n",
    "[ecma262 ES6](https://262.ecma-international.org/6.0/#sec-executable-code-and-execution-contexts)\n",
    "[从 ECMAScript 6 角度谈谈执行上下文](https://www.cnblogs.com/EthanWong/p/17918766.html)\n",
    "https://stackoverflow.com/questions/64399565/actual-v8-implementation-of-js-execution-stack\n",
    "https://www.dashlane.com/blog/how-is-data-stored-in-v8-js-engine-memory\n"
   ]
  }
 ],
 "metadata": {
  "kernelspec": {
   "display_name": "Deno",
   "language": "typescript",
   "name": "deno"
  },
  "language_info": {
   "name": "typescript"
  }
 },
 "nbformat": 4,
 "nbformat_minor": 2
}
