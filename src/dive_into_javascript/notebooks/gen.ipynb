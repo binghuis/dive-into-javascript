{
 "cells": [
  {
   "cell_type": "markdown",
   "metadata": {},
   "source": [
    "生成器函数(generator function)\n"
   ]
  },
  {
   "cell_type": "code",
   "execution_count": 1,
   "metadata": {},
   "outputs": [
    {
     "name": "stdout",
     "output_type": "stream",
     "text": [
      "{ value: 10, done: false }\n",
      "{ value: 20, done: false }\n",
      "{ value: undefined, done: true }\n",
      "{ value: undefined, done: true }\n"
     ]
    }
   ],
   "source": [
    "function* generator(i) {\n",
    "  yield i;\n",
    "  yield i + 10;\n",
    "}\n",
    "\n",
    "const gen = generator(10);\n",
    "\n",
    "console.log(gen.next());\n",
    "console.log(gen.next());\n",
    "console.log(gen.next());\n",
    "console.log(gen.next());\n"
   ]
  },
  {
   "cell_type": "code",
   "execution_count": 4,
   "metadata": {},
   "outputs": [
    {
     "name": "stdout",
     "output_type": "stream",
     "text": [
      "2\n",
      "2\n",
      "1\n"
     ]
    }
   ],
   "source": []
  }
 ],
 "metadata": {
  "kernelspec": {
   "display_name": "Deno",
   "language": "typescript",
   "name": "deno"
  },
  "language_info": {
   "file_extension": ".ts",
   "mimetype": "text/x.typescript",
   "name": "typescript",
   "nb_converter": "script",
   "pygments_lexer": "typescript",
   "version": "5.3.3"
  }
 },
 "nbformat": 4,
 "nbformat_minor": 2
}
