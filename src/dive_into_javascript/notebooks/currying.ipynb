{
 "cells": [
  {
   "cell_type": "markdown",
   "metadata": {},
   "source": [
    "# 柯里化\n",
    "\n",
    "函数柯里化在函数式编程中非常常见，是一种将接受多个参数的函数转换为一系列接受单个参数的函数的技术。\n"
   ]
  },
  {
   "cell_type": "code",
   "execution_count": 2,
   "metadata": {},
   "outputs": [
    {
     "name": "stdout",
     "output_type": "stream",
     "text": [
      "6\n",
      "6\n",
      "6\n"
     ]
    }
   ],
   "source": [
    "const sum = (a: number, b: number, c: number) => a + b + c;\n",
    "const curriedSum = curry(sum);\n",
    "\n",
    "console.log(curriedSum(1)(2)(3));\n",
    "console.log(curriedSum(1, 2)(3));\n",
    "console.log(curriedSum(1, 2, 3));\n",
    "\n",
    "function curry(fn: Function) {\n",
    "  return function curried(...args: any[]) {\n",
    "    if (args.length >= fn.length) {\n",
    "      return fn(...args);\n",
    "    } else {\n",
    "      return (...restArgs: any[]) => curried(...args.concat(restArgs));\n",
    "    }\n",
    "  };\n",
    "}\n"
   ]
  }
 ],
 "metadata": {
  "kernelspec": {
   "display_name": "Deno",
   "language": "typescript",
   "name": "deno"
  },
  "language_info": {
   "codemirror_mode": "typescript",
   "file_extension": ".ts",
   "mimetype": "text/x.typescript",
   "name": "typescript",
   "nbconvert_exporter": "script",
   "pygments_lexer": "typescript",
   "version": "5.5.2"
  }
 },
 "nbformat": 4,
 "nbformat_minor": 4
}
