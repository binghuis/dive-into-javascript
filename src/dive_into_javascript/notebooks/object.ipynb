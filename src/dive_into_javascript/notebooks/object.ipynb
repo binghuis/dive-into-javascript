{
 "cells": [
  {
   "cell_type": "markdown",
   "metadata": {},
   "source": [
    "# V8 中的对象表示\n"
   ]
  },
  {
   "cell_type": "markdown",
   "metadata": {},
   "source": [
    "对象内属性、排序属性和常规属性。\n",
    "\n",
    "排序属性用于存储可索引的属性，采用数组结构，属性名是 `elements`，但是当 `elements` 存储的数据是稀疏数组的时候，会变为 `Hash` 结构。\n",
    "\n",
    "当属性是不可索引属性，优先存在对象内，便于读取，但对象内属性空间固定。\n",
    "\n",
    "超出对象内属性空间则存在常规属性里，常规属性是存储不可索引的属性，默认是线性结构的快属性，当常规属性数量过大时变为 `Hash` 结构的慢属性。\n",
    "\n",
    "常规属性存在 `properties` 属性里。\n",
    "\n",
    "排序属性顺序是递增排序，常规属性顺序是按属性创建时间排序。\n"
   ]
  }
 ],
 "metadata": {
  "kernelspec": {
   "display_name": "Deno",
   "language": "typescript",
   "name": "deno"
  },
  "language_info": {
   "file_extension": ".ts",
   "mimetype": "text/x.typescript",
   "name": "typescript",
   "nb_converter": "script",
   "pygments_lexer": "typescript",
   "version": "5.3.3"
  }
 },
 "nbformat": 4,
 "nbformat_minor": 2
}
