{
 "cells": [
  {
   "cell_type": "code",
   "execution_count": null,
   "metadata": {},
   "outputs": [],
   "source": [
    "function myNew(constructor, ...args) {\n",
    "  // 创建一个新的空对象\n",
    "  let obj = Object.create(constructor.prototype);\n",
    "\n",
    "  // 绑定 this，执行构造函数\n",
    "  let result = constructor.apply(obj, args);\n",
    "\n",
    "  // 如果构造函数返回了一个对象，则返回这个对象\n",
    "  if (result && (typeof result === \"object\" || typeof result === \"function\")) {\n",
    "    return result;\n",
    "  }\n",
    "\n",
    "  // 否则，返回新创建的对象\n",
    "  return obj;\n",
    "}\n"
   ]
  }
 ],
 "metadata": {
  "kernelspec": {
   "display_name": "Deno",
   "language": "typescript",
   "name": "deno"
  },
  "language_info": {
   "name": "typescript"
  }
 },
 "nbformat": 4,
 "nbformat_minor": 2
}
