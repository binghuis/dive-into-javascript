{
 "cells": [
  {
   "cell_type": "markdown",
   "metadata": {},
   "source": [
    "# 语法分析产物 AST 抽象语法树\n",
    "\n",
    "语法分析阶段用词法分析的产物 token 生成 AST 抽象语法树。\n",
    "\n",
    "抽象语法树反映了代码的语法结构。\n",
    "\n",
    "下面将打印一段代码的抽象语法树，你将看到一个变量声明和函数调用的语法结构是怎么的。\n",
    "\n",
    "> 一个在线预览 AST 的网站：[AST Explorer](https://astexplorer.net/)\n"
   ]
  },
  {
   "cell_type": "code",
   "execution_count": 7,
   "metadata": {},
   "outputs": [
    {
     "name": "stdout",
     "output_type": "stream",
     "text": [
      "{\n",
      "  \"type\": \"Program\",\n",
      "  \"start\": 0,\n",
      "  \"end\": 26,\n",
      "  \"body\": [\n",
      "    {\n",
      "      \"type\": \"VariableDeclaration\",\n",
      "      \"start\": 0,\n",
      "      \"end\": 12,\n",
      "      \"declarations\": [\n",
      "        {\n",
      "          \"type\": \"VariableDeclarator\",\n",
      "          \"start\": 6,\n",
      "          \"end\": 11,\n",
      "          \"id\": {\n",
      "            \"type\": \"Identifier\",\n",
      "            \"start\": 6,\n",
      "            \"end\": 7,\n",
      "            \"name\": \"a\"\n",
      "          },\n",
      "          \"init\": {\n",
      "            \"type\": \"Literal\",\n",
      "            \"start\": 10,\n",
      "            \"end\": 11,\n",
      "            \"value\": 1,\n",
      "            \"raw\": \"1\"\n",
      "          }\n",
      "        }\n",
      "      ],\n",
      "      \"kind\": \"const\"\n",
      "    },\n",
      "    {\n",
      "      \"type\": \"ExpressionStatement\",\n",
      "      \"start\": 12,\n",
      "      \"end\": 26,\n",
      "      \"expression\": {\n",
      "        \"type\": \"CallExpression\",\n",
      "        \"start\": 12,\n",
      "        \"end\": 26,\n",
      "        \"callee\": {\n",
      "          \"type\": \"MemberExpression\",\n",
      "          \"start\": 12,\n",
      "          \"end\": 23,\n",
      "          \"object\": {\n",
      "            \"type\": \"Identifier\",\n",
      "            \"start\": 12,\n",
      "            \"end\": 19,\n",
      "            \"name\": \"console\"\n",
      "          },\n",
      "          \"property\": {\n",
      "            \"type\": \"Identifier\",\n",
      "            \"start\": 20,\n",
      "            \"end\": 23,\n",
      "            \"name\": \"log\"\n",
      "          },\n",
      "          \"computed\": false\n",
      "        },\n",
      "        \"arguments\": [\n",
      "          {\n",
      "            \"type\": \"Identifier\",\n",
      "            \"start\": 24,\n",
      "            \"end\": 25,\n",
      "            \"name\": \"a\"\n",
      "          }\n",
      "        ]\n",
      "      }\n",
      "    }\n",
      "  ],\n",
      "  \"sourceType\": \"script\"\n",
      "}\n"
     ]
    }
   ],
   "source": [
    "// @ts-ignore\n",
    "import * as acorn from \"acorn\";\n",
    "\n",
    "const ast = acorn.parse(`const a = 1;console.log(a)`, { ecmaVersion: 2015 });\n",
    "\n",
    "console.log(JSON.stringify(ast, null, 2));\n"
   ]
  }
 ],
 "metadata": {
  "kernelspec": {
   "display_name": "Deno",
   "language": "typescript",
   "name": "deno"
  },
  "language_info": {
   "codemirror_mode": "typescript",
   "file_extension": ".ts",
   "mimetype": "text/x.typescript",
   "name": "typescript",
   "nbconvert_exporter": "script",
   "pygments_lexer": "typescript",
   "version": "5.5.2"
  }
 },
 "nbformat": 4,
 "nbformat_minor": 4
}
